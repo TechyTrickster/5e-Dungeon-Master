{
 "cells": [
  {
   "cell_type": "code",
   "execution_count": 15,
   "metadata": {},
   "outputs": [
    {
     "name": "stdout",
     "output_type": "stream",
     "text": [
      "ChatCompletionMessage(content=\"Name: [Your name]\\nI'm a student at [University/School]. I hope to continue my studies at [College/University].\\n\", role='assistant', function_call=None, tool_calls=None)\n",
      "assistant\n",
      "Name: [Your name]\n",
      "I'm a student at [University/School]. I hope to continue my studies at [College/University].\n",
      "\n"
     ]
    }
   ],
   "source": [
    "# Example: reuse your existing OpenAI setup\n",
    "from openai import OpenAI\n",
    "\n",
    "  # Point to the local server\n",
    "client = OpenAI(base_url=\"http://192.168.50.216:1234/v1\", api_key=\"not-needed\")\n",
    "completion = client.chat.completions.create(\n",
    "  model=\"local-model\", # this field is currently unused\n",
    "  messages=[\n",
    "    {\"role\": \"system\", \"content\": \"Always answer in rhymes.\"},\n",
    "    {\"role\": \"user\", \"content\": \"Introduce yourself.\"}\n",
    "  ],\n",
    "  temperature=0.7,\n",
    ")\n",
    "\n",
    "print(completion.choices[0].message)\n",
    "print(completion.choices[0].message.role)\n",
    "print(completion.choices[0].message.content)\n"
   ]
  },
  {
   "cell_type": "code",
   "execution_count": 3,
   "metadata": {},
   "outputs": [
    {
     "name": "stdout",
     "output_type": "stream",
     "text": [
      "0\n",
      "3\n",
      "33\n",
      "6\n"
     ]
    }
   ],
   "source": [
    "def testFunction2(x):\n",
    "    return(x * 2)\n",
    "\n",
    "testFunction0 = lambda x: x - 1\n",
    "testFunction1 = lambda x: x + 1\n",
    "tester0 = testFunction1\n",
    "tester1 = testFunction2\n",
    "\n",
    "print(testFunction0(1))\n",
    "print(testFunction1(2))\n",
    "print(tester0(32))\n",
    "print(tester1(3))\n",
    "\n"
   ]
  },
  {
   "cell_type": "code",
   "execution_count": null,
   "metadata": {},
   "outputs": [],
   "source": [
    "from functools import reduce\n",
    "class Place:\n",
    "    def __init__(self, nameOfPlace, descriptionOfPlaceInt, descriptionOfPlaceExt, subPlaces, listOfPeople, intPic, extPic, summarizingQuery):\n",
    "        self.name = nameOfPlace\n",
    "        self.descriptionInternal = descriptionOfPlaceInt\n",
    "        self.descriptionExternal = descriptionOfPlaceExt\n",
    "        self.internalLocations = subPlaces\n",
    "        self.peopleHere = listOfPeople\n",
    "        self.pictureExterior = extPic\n",
    "        self.pictureInterior = intPic\n",
    "\n",
    "    def generateImagePromptOfInternalScene(self):\n",
    "        generalInternal = self.descriptionInternal\n",
    "        characterDescriptions = reduce(lambda x, y: x + \"\\n\" + y.getDescription(), self.peopleHere)\n",
    "        characterActivities = reduce(lambda x, y: x + \"\\n\" + y.getCurrentActions(), self.peopleHere)\n",
    "        characterLocations = reduce(lambda x, y: x + \"\\n\" + y.getCurrentActions(), self.peopleHere)\n",
    "        buffer = [generalInternal, characterDescriptions, characterActivities, characterLocations]\n",
    "        unsummarized = reduce(lambda x, y: x + \"\\n\" + y, buffer)\n",
    "        \n",
    "        return(output)"
   ]
  }
 ],
 "metadata": {
  "kernelspec": {
   "display_name": "lang-chain",
   "language": "python",
   "name": "python3"
  },
  "language_info": {
   "codemirror_mode": {
    "name": "ipython",
    "version": 3
   },
   "file_extension": ".py",
   "mimetype": "text/x-python",
   "name": "python",
   "nbconvert_exporter": "python",
   "pygments_lexer": "ipython3",
   "version": "3.10.9"
  }
 },
 "nbformat": 4,
 "nbformat_minor": 2
}
