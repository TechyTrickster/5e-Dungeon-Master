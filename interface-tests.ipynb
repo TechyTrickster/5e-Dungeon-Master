{
 "cells": [
  {
   "cell_type": "code",
   "execution_count": 1,
   "metadata": {},
   "outputs": [
    {
     "name": "stdout",
     "output_type": "stream",
     "text": [
      "ChatCompletionMessage(content=\"In the realm of words, I'm here to engage,\\nWith a playful heart and a poetic page.\\nRhyme is my game, in verses I arrange,\\nA joyous dance on the edge of the strange.\\nWelcome to my world, where words come alive,\\nAnd stories unfold with every five.\", role='assistant', function_call=None, tool_calls=None)\n"
     ]
    }
   ],
   "source": [
    "# Example: reuse your existing OpenAI setup\n",
    "from openai import OpenAI\n",
    "\n",
    "# Point to the local server\n",
    "client = OpenAI(base_url=\"http://192.168.50.216:1234/v1\", api_key=\"not-needed\")\n",
    "\n",
    "completion = client.chat.completions.create(\n",
    "  model=\"local-model\", # this field is currently unused\n",
    "  messages=[\n",
    "    {\"role\": \"system\", \"content\": \"Always answer in rhymes.\"},\n",
    "    {\"role\": \"user\", \"content\": \"Introduce yourself.\"}\n",
    "  ],\n",
    "  temperature=0.7,\n",
    ")\n",
    "\n",
    "print(completion.choices[0].message)"
   ]
  },
  {
   "cell_type": "code",
   "execution_count": null,
   "metadata": {},
   "outputs": [],
   "source": [
    "from functools import reduce\n",
    "class Place:\n",
    "    def __init__(self, nameOfPlace, descriptionOfPlaceInt, descriptionOfPlaceExt, subPlaces, listOfPeople, intPic, extPic, summarizingQuery):\n",
    "        self.name = nameOfPlace\n",
    "        self.descriptionInternal = descriptionOfPlaceInt\n",
    "        self.descriptionExternal = descriptionOfPlaceExt\n",
    "        self.internalLocations = subPlaces\n",
    "        self.peopleHere = listOfPeople\n",
    "        self.pictureExterior = extPic\n",
    "        self.pictureInterior = intPic\n",
    "\n",
    "    def generateImagePromptOfInternalScene(self):\n",
    "        generalInternal = self.descriptionInternal\n",
    "        characterDescriptions = reduce(lambda x, y: x + \"\\n\" + y.getDescription(), self.peopleHere)\n",
    "        characterActivities = reduce(lambda x, y: x + \"\\n\" + y.getCurrentActions(), self.peopleHere)\n",
    "        characterLocations = reduce(lambda x, y: x + \"\\n\" + y.getCurrentActions(), self.peopleHere)\n",
    "        buffer = [generalInternal, characterDescriptions, characterActivities, characterLocations]\n",
    "        unsummarized = reduce(lambda x, y: x + \"\\n\" + y, buffer)\n",
    "        \n",
    "        return(output)"
   ]
  }
 ],
 "metadata": {
  "kernelspec": {
   "display_name": "lang-chain",
   "language": "python",
   "name": "python3"
  },
  "language_info": {
   "codemirror_mode": {
    "name": "ipython",
    "version": 3
   },
   "file_extension": ".py",
   "mimetype": "text/x-python",
   "name": "python",
   "nbconvert_exporter": "python",
   "pygments_lexer": "ipython3",
   "version": "3.10.9"
  }
 },
 "nbformat": 4,
 "nbformat_minor": 2
}
